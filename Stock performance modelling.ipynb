{
 "cells": [
  {
   "cell_type": "code",
   "execution_count": 131,
   "metadata": {},
   "outputs": [],
   "source": [
    "import pandas as pd\n",
    "import numpy as np\n",
    "import sklearn.preprocessing as prp\n",
    "import sklearn.model_selection as ms\n",
    "import sklearn.ensemble as ske\n",
    "import sklearn.metrics as skm"
   ]
  },
  {
   "cell_type": "code",
   "execution_count": 132,
   "metadata": {},
   "outputs": [],
   "source": [
    "file='Downloads/DataSET/stock portfolio performance.csv'"
   ]
  },
  {
   "cell_type": "code",
   "execution_count": 133,
   "metadata": {},
   "outputs": [],
   "source": [
    "ptf=pd.read_csv(file, sep=';')"
   ]
  },
  {
   "cell_type": "code",
   "execution_count": 134,
   "metadata": {},
   "outputs": [
    {
     "data": {
      "text/html": [
       "<div>\n",
       "<style scoped>\n",
       "    .dataframe tbody tr th:only-of-type {\n",
       "        vertical-align: middle;\n",
       "    }\n",
       "\n",
       "    .dataframe tbody tr th {\n",
       "        vertical-align: top;\n",
       "    }\n",
       "\n",
       "    .dataframe thead th {\n",
       "        text-align: right;\n",
       "    }\n",
       "</style>\n",
       "<table border=\"1\" class=\"dataframe\">\n",
       "  <thead>\n",
       "    <tr style=\"text-align: right;\">\n",
       "      <th></th>\n",
       "      <th>ID</th>\n",
       "      <th>Large B/P</th>\n",
       "      <th>Large ROE</th>\n",
       "      <th>Large S/P</th>\n",
       "      <th>Large Return Rate in the last quarter</th>\n",
       "      <th>Large Market Value</th>\n",
       "      <th>Small systematic Risk</th>\n",
       "      <th>Annual Return</th>\n",
       "      <th>Excess Return</th>\n",
       "    </tr>\n",
       "  </thead>\n",
       "  <tbody>\n",
       "    <tr>\n",
       "      <th>0</th>\n",
       "      <td>1</td>\n",
       "      <td>1,000</td>\n",
       "      <td>0,000</td>\n",
       "      <td>0,000</td>\n",
       "      <td>0,000</td>\n",
       "      <td>0,000</td>\n",
       "      <td>0,000</td>\n",
       "      <td>13,90%</td>\n",
       "      <td>1,00%</td>\n",
       "    </tr>\n",
       "    <tr>\n",
       "      <th>1</th>\n",
       "      <td>2</td>\n",
       "      <td>0,000</td>\n",
       "      <td>1,000</td>\n",
       "      <td>0,000</td>\n",
       "      <td>0,000</td>\n",
       "      <td>0,000</td>\n",
       "      <td>0,000</td>\n",
       "      <td>14,30%</td>\n",
       "      <td>1,00%</td>\n",
       "    </tr>\n",
       "    <tr>\n",
       "      <th>2</th>\n",
       "      <td>3</td>\n",
       "      <td>0,000</td>\n",
       "      <td>0,000</td>\n",
       "      <td>1,000</td>\n",
       "      <td>0,000</td>\n",
       "      <td>0,000</td>\n",
       "      <td>0,000</td>\n",
       "      <td>17,30%</td>\n",
       "      <td>1,80%</td>\n",
       "    </tr>\n",
       "    <tr>\n",
       "      <th>3</th>\n",
       "      <td>4</td>\n",
       "      <td>0,000</td>\n",
       "      <td>0,000</td>\n",
       "      <td>0,000</td>\n",
       "      <td>1,000</td>\n",
       "      <td>0,000</td>\n",
       "      <td>0,000</td>\n",
       "      <td>9,60%</td>\n",
       "      <td>-0,20%</td>\n",
       "    </tr>\n",
       "    <tr>\n",
       "      <th>4</th>\n",
       "      <td>5</td>\n",
       "      <td>0,000</td>\n",
       "      <td>0,000</td>\n",
       "      <td>0,000</td>\n",
       "      <td>0,000</td>\n",
       "      <td>1,000</td>\n",
       "      <td>0,000</td>\n",
       "      <td>9,60%</td>\n",
       "      <td>0,10%</td>\n",
       "    </tr>\n",
       "    <tr>\n",
       "      <th>5</th>\n",
       "      <td>6</td>\n",
       "      <td>0,000</td>\n",
       "      <td>0,000</td>\n",
       "      <td>0,000</td>\n",
       "      <td>0,000</td>\n",
       "      <td>0,000</td>\n",
       "      <td>1,000</td>\n",
       "      <td>7,00%</td>\n",
       "      <td>-0,50%</td>\n",
       "    </tr>\n",
       "    <tr>\n",
       "      <th>6</th>\n",
       "      <td>7</td>\n",
       "      <td>0,500</td>\n",
       "      <td>0,500</td>\n",
       "      <td>0,000</td>\n",
       "      <td>0,000</td>\n",
       "      <td>0,000</td>\n",
       "      <td>0,000</td>\n",
       "      <td>19,50%</td>\n",
       "      <td>2,60%</td>\n",
       "    </tr>\n",
       "    <tr>\n",
       "      <th>7</th>\n",
       "      <td>8</td>\n",
       "      <td>0,500</td>\n",
       "      <td>0,000</td>\n",
       "      <td>0,500</td>\n",
       "      <td>0,000</td>\n",
       "      <td>0,000</td>\n",
       "      <td>0,000</td>\n",
       "      <td>16,40%</td>\n",
       "      <td>1,60%</td>\n",
       "    </tr>\n",
       "    <tr>\n",
       "      <th>8</th>\n",
       "      <td>9</td>\n",
       "      <td>0,000</td>\n",
       "      <td>0,500</td>\n",
       "      <td>0,500</td>\n",
       "      <td>0,000</td>\n",
       "      <td>0,000</td>\n",
       "      <td>0,000</td>\n",
       "      <td>18,50%</td>\n",
       "      <td>2,20%</td>\n",
       "    </tr>\n",
       "    <tr>\n",
       "      <th>9</th>\n",
       "      <td>10</td>\n",
       "      <td>0,500</td>\n",
       "      <td>0,000</td>\n",
       "      <td>0,000</td>\n",
       "      <td>0,500</td>\n",
       "      <td>0,000</td>\n",
       "      <td>0,000</td>\n",
       "      <td>15,00%</td>\n",
       "      <td>1,50%</td>\n",
       "    </tr>\n",
       "    <tr>\n",
       "      <th>10</th>\n",
       "      <td>11</td>\n",
       "      <td>0,000</td>\n",
       "      <td>0,500</td>\n",
       "      <td>0,000</td>\n",
       "      <td>0,500</td>\n",
       "      <td>0,000</td>\n",
       "      <td>0,000</td>\n",
       "      <td>15,90%</td>\n",
       "      <td>1,50%</td>\n",
       "    </tr>\n",
       "    <tr>\n",
       "      <th>11</th>\n",
       "      <td>12</td>\n",
       "      <td>0,000</td>\n",
       "      <td>0,000</td>\n",
       "      <td>0,500</td>\n",
       "      <td>0,500</td>\n",
       "      <td>0,000</td>\n",
       "      <td>0,000</td>\n",
       "      <td>17,00%</td>\n",
       "      <td>1,80%</td>\n",
       "    </tr>\n",
       "    <tr>\n",
       "      <th>12</th>\n",
       "      <td>13</td>\n",
       "      <td>0,500</td>\n",
       "      <td>0,000</td>\n",
       "      <td>0,000</td>\n",
       "      <td>0,000</td>\n",
       "      <td>0,500</td>\n",
       "      <td>0,000</td>\n",
       "      <td>14,00%</td>\n",
       "      <td>1,10%</td>\n",
       "    </tr>\n",
       "    <tr>\n",
       "      <th>13</th>\n",
       "      <td>14</td>\n",
       "      <td>0,000</td>\n",
       "      <td>0,500</td>\n",
       "      <td>0,000</td>\n",
       "      <td>0,000</td>\n",
       "      <td>0,500</td>\n",
       "      <td>0,000</td>\n",
       "      <td>12,30%</td>\n",
       "      <td>0,80%</td>\n",
       "    </tr>\n",
       "    <tr>\n",
       "      <th>14</th>\n",
       "      <td>15</td>\n",
       "      <td>0,000</td>\n",
       "      <td>0,000</td>\n",
       "      <td>0,500</td>\n",
       "      <td>0,000</td>\n",
       "      <td>0,500</td>\n",
       "      <td>0,000</td>\n",
       "      <td>14,50%</td>\n",
       "      <td>1,30%</td>\n",
       "    </tr>\n",
       "  </tbody>\n",
       "</table>\n",
       "</div>"
      ],
      "text/plain": [
       "    ID  Large B/P   Large ROE   Large S/P   \\\n",
       "0    1       1,000       0,000       0,000   \n",
       "1    2       0,000       1,000       0,000   \n",
       "2    3       0,000       0,000       1,000   \n",
       "3    4       0,000       0,000       0,000   \n",
       "4    5       0,000       0,000       0,000   \n",
       "5    6       0,000       0,000       0,000   \n",
       "6    7       0,500       0,500       0,000   \n",
       "7    8       0,500       0,000       0,500   \n",
       "8    9       0,000       0,500       0,500   \n",
       "9   10       0,500       0,000       0,000   \n",
       "10  11       0,000       0,500       0,000   \n",
       "11  12       0,000       0,000       0,500   \n",
       "12  13       0,500       0,000       0,000   \n",
       "13  14       0,000       0,500       0,000   \n",
       "14  15       0,000       0,000       0,500   \n",
       "\n",
       "    Large Return Rate in the last quarter   Large Market Value   \\\n",
       "0                                    0,000                0,000   \n",
       "1                                    0,000                0,000   \n",
       "2                                    0,000                0,000   \n",
       "3                                    1,000                0,000   \n",
       "4                                    0,000                1,000   \n",
       "5                                    0,000                0,000   \n",
       "6                                    0,000                0,000   \n",
       "7                                    0,000                0,000   \n",
       "8                                    0,000                0,000   \n",
       "9                                    0,500                0,000   \n",
       "10                                   0,500                0,000   \n",
       "11                                   0,500                0,000   \n",
       "12                                   0,000                0,500   \n",
       "13                                   0,000                0,500   \n",
       "14                                   0,000                0,500   \n",
       "\n",
       "    Small systematic Risk Annual Return Excess Return  \n",
       "0                   0,000        13,90%         1,00%  \n",
       "1                   0,000        14,30%         1,00%  \n",
       "2                   0,000        17,30%         1,80%  \n",
       "3                   0,000         9,60%        -0,20%  \n",
       "4                   0,000         9,60%         0,10%  \n",
       "5                   1,000         7,00%        -0,50%  \n",
       "6                   0,000        19,50%         2,60%  \n",
       "7                   0,000        16,40%         1,60%  \n",
       "8                   0,000        18,50%         2,20%  \n",
       "9                   0,000        15,00%         1,50%  \n",
       "10                  0,000        15,90%         1,50%  \n",
       "11                  0,000        17,00%         1,80%  \n",
       "12                  0,000        14,00%         1,10%  \n",
       "13                  0,000        12,30%         0,80%  \n",
       "14                  0,000        14,50%         1,30%  "
      ]
     },
     "execution_count": 134,
     "metadata": {},
     "output_type": "execute_result"
    }
   ],
   "source": [
    "ptf.head(15)"
   ]
  },
  {
   "cell_type": "code",
   "execution_count": 135,
   "metadata": {},
   "outputs": [
    {
     "name": "stdout",
     "output_type": "stream",
     "text": [
      "ID                                          int64\n",
      " Large B/P                                 object\n",
      " Large ROE                                 object\n",
      " Large S/P                                 object\n",
      " Large Return Rate in the last quarter     object\n",
      " Large Market Value                        object\n",
      " Small systematic Risk                     object\n",
      "Annual Return                              object\n",
      "Excess Return                              object\n",
      "dtype: object\n"
     ]
    },
    {
     "data": {
      "text/plain": [
       "['ID',\n",
       " ' Large B/P ',\n",
       " ' Large ROE ',\n",
       " ' Large S/P ',\n",
       " ' Large Return Rate in the last quarter ',\n",
       " ' Large Market Value ',\n",
       " ' Small systematic Risk',\n",
       " 'Annual Return',\n",
       " 'Excess Return']"
      ]
     },
     "execution_count": 135,
     "metadata": {},
     "output_type": "execute_result"
    }
   ],
   "source": [
    "print(ptf.dtypes)\n",
    "headers= ptf.columns.values.tolist()\n",
    "headers"
   ]
  },
  {
   "cell_type": "code",
   "execution_count": 136,
   "metadata": {
    "scrolled": true
   },
   "outputs": [],
   "source": [
    "##Data wrangling and preparation\n",
    "Features= headers[1:7]\n",
    "perf= headers[8]\n",
    "\n",
    "for col in Features:\n",
    "    if ptf[col].dtypes == 'object':\n",
    "        ptf[col]= [str.replace(',','.') for str in ptf[col]]\n",
    "        ptf[[col]]= ptf[[col]].astype('float')\n",
    "\n",
    "ptf[perf]=[a.strip('%') for a in ptf[perf]]\n",
    "\n",
    "ptf[perf]= [str.replace(',','.') for str in ptf[perf]]\n",
    "\n",
    "ptf[[perf]]=ptf[[perf]].astype('float')\n",
    "\n",
    "ptf.dtypes\n",
    "\n",
    "ptf[[perf]]= ptf[[perf]]/100"
   ]
  },
  {
   "cell_type": "code",
   "execution_count": 194,
   "metadata": {},
   "outputs": [
    {
     "name": "stdout",
     "output_type": "stream",
     "text": [
      "shape :  (6,)\n"
     ]
    },
    {
     "data": {
      "text/html": [
       "<div>\n",
       "<style scoped>\n",
       "    .dataframe tbody tr th:only-of-type {\n",
       "        vertical-align: middle;\n",
       "    }\n",
       "\n",
       "    .dataframe tbody tr th {\n",
       "        vertical-align: top;\n",
       "    }\n",
       "\n",
       "    .dataframe thead th {\n",
       "        text-align: right;\n",
       "    }\n",
       "</style>\n",
       "<table border=\"1\" class=\"dataframe\">\n",
       "  <thead>\n",
       "    <tr style=\"text-align: right;\">\n",
       "      <th></th>\n",
       "      <th>ID</th>\n",
       "      <th>Large B/P</th>\n",
       "      <th>Large ROE</th>\n",
       "      <th>Large S/P</th>\n",
       "      <th>Large Return Rate in the last quarter</th>\n",
       "      <th>Large Market Value</th>\n",
       "      <th>Small systematic Risk</th>\n",
       "      <th>Annual Return</th>\n",
       "      <th>Excess Return</th>\n",
       "    </tr>\n",
       "  </thead>\n",
       "  <tbody>\n",
       "    <tr>\n",
       "      <th>0</th>\n",
       "      <td>1</td>\n",
       "      <td>1.0</td>\n",
       "      <td>0.0</td>\n",
       "      <td>0.0</td>\n",
       "      <td>0.0</td>\n",
       "      <td>0.0</td>\n",
       "      <td>0.0</td>\n",
       "      <td>13,90%</td>\n",
       "      <td>0.010</td>\n",
       "    </tr>\n",
       "    <tr>\n",
       "      <th>1</th>\n",
       "      <td>2</td>\n",
       "      <td>0.0</td>\n",
       "      <td>1.0</td>\n",
       "      <td>0.0</td>\n",
       "      <td>0.0</td>\n",
       "      <td>0.0</td>\n",
       "      <td>0.0</td>\n",
       "      <td>14,30%</td>\n",
       "      <td>0.010</td>\n",
       "    </tr>\n",
       "    <tr>\n",
       "      <th>2</th>\n",
       "      <td>3</td>\n",
       "      <td>0.0</td>\n",
       "      <td>0.0</td>\n",
       "      <td>1.0</td>\n",
       "      <td>0.0</td>\n",
       "      <td>0.0</td>\n",
       "      <td>0.0</td>\n",
       "      <td>17,30%</td>\n",
       "      <td>0.018</td>\n",
       "    </tr>\n",
       "    <tr>\n",
       "      <th>3</th>\n",
       "      <td>4</td>\n",
       "      <td>0.0</td>\n",
       "      <td>0.0</td>\n",
       "      <td>0.0</td>\n",
       "      <td>1.0</td>\n",
       "      <td>0.0</td>\n",
       "      <td>0.0</td>\n",
       "      <td>9,60%</td>\n",
       "      <td>-0.002</td>\n",
       "    </tr>\n",
       "    <tr>\n",
       "      <th>4</th>\n",
       "      <td>5</td>\n",
       "      <td>0.0</td>\n",
       "      <td>0.0</td>\n",
       "      <td>0.0</td>\n",
       "      <td>0.0</td>\n",
       "      <td>1.0</td>\n",
       "      <td>0.0</td>\n",
       "      <td>9,60%</td>\n",
       "      <td>0.001</td>\n",
       "    </tr>\n",
       "    <tr>\n",
       "      <th>5</th>\n",
       "      <td>6</td>\n",
       "      <td>0.0</td>\n",
       "      <td>0.0</td>\n",
       "      <td>0.0</td>\n",
       "      <td>0.0</td>\n",
       "      <td>0.0</td>\n",
       "      <td>1.0</td>\n",
       "      <td>7,00%</td>\n",
       "      <td>-0.005</td>\n",
       "    </tr>\n",
       "    <tr>\n",
       "      <th>6</th>\n",
       "      <td>7</td>\n",
       "      <td>0.5</td>\n",
       "      <td>0.5</td>\n",
       "      <td>0.0</td>\n",
       "      <td>0.0</td>\n",
       "      <td>0.0</td>\n",
       "      <td>0.0</td>\n",
       "      <td>19,50%</td>\n",
       "      <td>0.026</td>\n",
       "    </tr>\n",
       "    <tr>\n",
       "      <th>7</th>\n",
       "      <td>8</td>\n",
       "      <td>0.5</td>\n",
       "      <td>0.0</td>\n",
       "      <td>0.5</td>\n",
       "      <td>0.0</td>\n",
       "      <td>0.0</td>\n",
       "      <td>0.0</td>\n",
       "      <td>16,40%</td>\n",
       "      <td>0.016</td>\n",
       "    </tr>\n",
       "    <tr>\n",
       "      <th>8</th>\n",
       "      <td>9</td>\n",
       "      <td>0.0</td>\n",
       "      <td>0.5</td>\n",
       "      <td>0.5</td>\n",
       "      <td>0.0</td>\n",
       "      <td>0.0</td>\n",
       "      <td>0.0</td>\n",
       "      <td>18,50%</td>\n",
       "      <td>0.022</td>\n",
       "    </tr>\n",
       "    <tr>\n",
       "      <th>9</th>\n",
       "      <td>10</td>\n",
       "      <td>0.5</td>\n",
       "      <td>0.0</td>\n",
       "      <td>0.0</td>\n",
       "      <td>0.5</td>\n",
       "      <td>0.0</td>\n",
       "      <td>0.0</td>\n",
       "      <td>15,00%</td>\n",
       "      <td>0.015</td>\n",
       "    </tr>\n",
       "  </tbody>\n",
       "</table>\n",
       "</div>"
      ],
      "text/plain": [
       "   ID   Large B/P    Large ROE    Large S/P   \\\n",
       "0   1          1.0          0.0          0.0   \n",
       "1   2          0.0          1.0          0.0   \n",
       "2   3          0.0          0.0          1.0   \n",
       "3   4          0.0          0.0          0.0   \n",
       "4   5          0.0          0.0          0.0   \n",
       "5   6          0.0          0.0          0.0   \n",
       "6   7          0.5          0.5          0.0   \n",
       "7   8          0.5          0.0          0.5   \n",
       "8   9          0.0          0.5          0.5   \n",
       "9  10          0.5          0.0          0.0   \n",
       "\n",
       "    Large Return Rate in the last quarter    Large Market Value   \\\n",
       "0                                      0.0                   0.0   \n",
       "1                                      0.0                   0.0   \n",
       "2                                      0.0                   0.0   \n",
       "3                                      1.0                   0.0   \n",
       "4                                      0.0                   1.0   \n",
       "5                                      0.0                   0.0   \n",
       "6                                      0.0                   0.0   \n",
       "7                                      0.0                   0.0   \n",
       "8                                      0.0                   0.0   \n",
       "9                                      0.5                   0.0   \n",
       "\n",
       "    Small systematic Risk Annual Return  Excess Return  \n",
       "0                     0.0        13,90%          0.010  \n",
       "1                     0.0        14,30%          0.010  \n",
       "2                     0.0        17,30%          0.018  \n",
       "3                     0.0         9,60%         -0.002  \n",
       "4                     0.0         9,60%          0.001  \n",
       "5                     1.0         7,00%         -0.005  \n",
       "6                     0.0        19,50%          0.026  \n",
       "7                     0.0        16,40%          0.016  \n",
       "8                     0.0        18,50%          0.022  \n",
       "9                     0.0        15,00%          0.015  "
      ]
     },
     "execution_count": 194,
     "metadata": {},
     "output_type": "execute_result"
    }
   ],
   "source": [
    "print('shape : ',np.shape(Features))\n",
    "ptf.head(10)"
   ]
  },
  {
   "cell_type": "code",
   "execution_count": 138,
   "metadata": {},
   "outputs": [
    {
     "name": "stdout",
     "output_type": "stream",
     "text": [
      "[[1. 0. 0. 0. 0. 0.]\n",
      " [0. 1. 0. 0. 0. 0.]\n",
      " [0. 0. 1. 0. 0. 0.]\n",
      " [0. 0. 0. 1. 0. 0.]\n",
      " [0. 0. 0. 0. 1. 0.]\n",
      " [0. 0. 0. 0. 0. 1.]]\n",
      "[ 0.01   0.01   0.018 -0.002  0.001 -0.005]\n",
      "(63, 6)\n",
      "(63,)\n"
     ]
    }
   ],
   "source": [
    "X=ptf[Features].values\n",
    "y=ptf[perf].values\n",
    "print(X[0:6])\n",
    "print(y[0:6])\n",
    "print(X.shape)\n",
    "print(y.shape)"
   ]
  },
  {
   "cell_type": "code",
   "execution_count": 139,
   "metadata": {},
   "outputs": [
    {
     "name": "stdout",
     "output_type": "stream",
     "text": [
      "(44, 6)\n",
      "(19, 6)\n",
      "(44,)\n",
      "(19,)\n"
     ]
    }
   ],
   "source": [
    "np.random.seed(4000)\n",
    "ligne= range(X.shape[0])\n",
    "ligne=ms.train_test_split(ligne,test_size=0.3)\n",
    "X_train=np.array(X[ligne[0],:])\n",
    "ytrain=np.ravel(y[ligne[0]])\n",
    "X_test=np.array(X[ligne[1],:])\n",
    "ytest=np.ravel(y[ligne[1]])\n",
    "print(X_train.shape)\n",
    "print(X_test.shape)\n",
    "print(ytrain.shape)\n",
    "print(ytest.shape)"
   ]
  },
  {
   "cell_type": "code",
   "execution_count": 140,
   "metadata": {},
   "outputs": [],
   "source": [
    "import sklearn.linear_model as lm"
   ]
  },
  {
   "cell_type": "code",
   "execution_count": 141,
   "metadata": {},
   "outputs": [],
   "source": [
    "lrm= lm.LinearRegression(fit_intercept= False)\n",
    "lrm=lrm.fit(X_train,ytrain)"
   ]
  },
  {
   "cell_type": "code",
   "execution_count": 142,
   "metadata": {},
   "outputs": [],
   "source": [
    "Yhat=lrm.predict(X_test)"
   ]
  },
  {
   "cell_type": "code",
   "execution_count": 221,
   "metadata": {},
   "outputs": [
    {
     "name": "stdout",
     "output_type": "stream",
     "text": [
      "r2 score:  0.4291620143586613\n",
      "model coefficients:  [0.01933084 0.02235916 0.02512279 0.00673793 0.005288   0.00532828]\n",
      "intercept:  0.0\n",
      "variance explained:  0.5413379149089123\n",
      "RMSE:  0.005400162645339042\n"
     ]
    }
   ],
   "source": [
    "print('r2 score: ',skm.r2_score(ytest,Yhat))\n",
    "print('model coefficients: ',lrm.coef_)\n",
    "print('intercept: ',lrm.intercept_)\n",
    "print('variance explained: ',skm.explained_variance_score(ytest,Yhat))\n",
    "print('RMSE: ',np.sqrt(skm.mean_squared_error(ytest,Yhat)))"
   ]
  },
  {
   "cell_type": "code",
   "execution_count": 222,
   "metadata": {},
   "outputs": [
    {
     "name": "stdout",
     "output_type": "stream",
     "text": [
      "cross validation score:  [-0.13598597  0.70052025  0.53038126 -1.92105804]\n",
      "mean cross validation score:  -0.20653562559952887\n"
     ]
    }
   ],
   "source": [
    "###Method 2 cross validation\n",
    "score=ms.cross_val_score(lrm,X,y,cv=4)\n",
    "print('cross validation score: ',score)\n",
    "print('mean cross validation score: ',score.mean())"
   ]
  },
  {
   "cell_type": "code",
   "execution_count": 227,
   "metadata": {},
   "outputs": [],
   "source": [
    "##Method 3: Random Forest regressor\n",
    "rfr=ske.RandomForestRegressor(n_estimators=100,min_samples_leaf=2,min_samples_split=2,random_state=4,oob_score=True)\n",
    "fitrf=rfr.fit(X_train,ytrain)\n",
    "score=ms.cross_val_score(fitrf,X,y, cv=4)"
   ]
  },
  {
   "cell_type": "code",
   "execution_count": 228,
   "metadata": {},
   "outputs": [
    {
     "name": "stdout",
     "output_type": "stream",
     "text": [
      "score of cross validation : [0.56341539 0.92661721 0.86710305 0.35024291]\n",
      "mean score:  0.6768446400925143\n",
      "feature explanation:  [0.15589803 0.24321942 0.25876164 0.07177542 0.1296538  0.1406917 ]\n",
      "0.6706621327097481\n"
     ]
    }
   ],
   "source": [
    "print('score of cross validation :',score)\n",
    "print('mean score: ',score.mean())\n",
    "explanation=fitrf.feature_importances_\n",
    "print('feature explanation: ',explanation)\n",
    "summary=pd.DataFrame(data=explanation, index=Features,columns=['Percentage'])\n",
    "print(fitrf.oob_score_)"
   ]
  },
  {
   "cell_type": "code",
   "execution_count": 229,
   "metadata": {},
   "outputs": [
    {
     "data": {
      "text/html": [
       "<div>\n",
       "<style scoped>\n",
       "    .dataframe tbody tr th:only-of-type {\n",
       "        vertical-align: middle;\n",
       "    }\n",
       "\n",
       "    .dataframe tbody tr th {\n",
       "        vertical-align: top;\n",
       "    }\n",
       "\n",
       "    .dataframe thead th {\n",
       "        text-align: right;\n",
       "    }\n",
       "</style>\n",
       "<table border=\"1\" class=\"dataframe\">\n",
       "  <thead>\n",
       "    <tr style=\"text-align: right;\">\n",
       "      <th></th>\n",
       "      <th>Percentage</th>\n",
       "    </tr>\n",
       "  </thead>\n",
       "  <tbody>\n",
       "    <tr>\n",
       "      <th>Large B/P</th>\n",
       "      <td>0.155898</td>\n",
       "    </tr>\n",
       "    <tr>\n",
       "      <th>Large ROE</th>\n",
       "      <td>0.243219</td>\n",
       "    </tr>\n",
       "    <tr>\n",
       "      <th>Large S/P</th>\n",
       "      <td>0.258762</td>\n",
       "    </tr>\n",
       "    <tr>\n",
       "      <th>Large Return Rate in the last quarter</th>\n",
       "      <td>0.071775</td>\n",
       "    </tr>\n",
       "    <tr>\n",
       "      <th>Large Market Value</th>\n",
       "      <td>0.129654</td>\n",
       "    </tr>\n",
       "    <tr>\n",
       "      <th>Small systematic Risk</th>\n",
       "      <td>0.140692</td>\n",
       "    </tr>\n",
       "  </tbody>\n",
       "</table>\n",
       "</div>"
      ],
      "text/plain": [
       "                                         Percentage\n",
       " Large B/P                                 0.155898\n",
       " Large ROE                                 0.243219\n",
       " Large S/P                                 0.258762\n",
       " Large Return Rate in the last quarter     0.071775\n",
       " Large Market Value                        0.129654\n",
       " Small systematic Risk                     0.140692"
      ]
     },
     "execution_count": 229,
     "metadata": {},
     "output_type": "execute_result"
    }
   ],
   "source": [
    "summary"
   ]
  },
  {
   "cell_type": "code",
   "execution_count": 244,
   "metadata": {},
   "outputs": [],
   "source": [
    "model_1=fitrf.estimators_[5]"
   ]
  },
  {
   "cell_type": "code",
   "execution_count": 263,
   "metadata": {},
   "outputs": [],
   "source": [
    "from sklearn.tree import export_graphviz\n",
    "import pydotplus"
   ]
  },
  {
   "cell_type": "code",
   "execution_count": 273,
   "metadata": {},
   "outputs": [],
   "source": [
    "export_graphviz(model_1,out_file='reg.dot',feature_names=Features,precision=1,special_characters=True,leaves_parallel= True,rounded=True)"
   ]
  },
  {
   "cell_type": "code",
   "execution_count": 275,
   "metadata": {},
   "outputs": [],
   "source": [
    "graph=pydotplus.graph_from_dot_file('reg.dot')"
   ]
  },
  {
   "cell_type": "code",
   "execution_count": 276,
   "metadata": {},
   "outputs": [
    {
     "data": {
      "text/plain": [
       "True"
      ]
     },
     "execution_count": 276,
     "metadata": {},
     "output_type": "execute_result"
    }
   ],
   "source": [
    "graph.write_pdf('reg.pdf')"
   ]
  },
  {
   "cell_type": "code",
   "execution_count": 277,
   "metadata": {},
   "outputs": [],
   "source": [
    "import IPython.display as dis"
   ]
  },
  {
   "cell_type": "code",
   "execution_count": 279,
   "metadata": {},
   "outputs": [],
   "source": [
    "dis.display_pdf('reg.pdf')"
   ]
  },
  {
   "cell_type": "code",
   "execution_count": 201,
   "metadata": {},
   "outputs": [],
   "source": [
    "##Method 4 Decision Regressor\n",
    "from sklearn.tree import DecisionTreeRegressor"
   ]
  },
  {
   "cell_type": "code",
   "execution_count": 205,
   "metadata": {},
   "outputs": [],
   "source": [
    "dr=DecisionTreeRegressor(min_samples_leaf=2,min_samples_split=2,random_state=23)\n",
    "drf=dr.fit(X_train,ytrain)"
   ]
  },
  {
   "cell_type": "code",
   "execution_count": 206,
   "metadata": {},
   "outputs": [],
   "source": [
    "score_3=ms.cross_val_score(drf,X,y,cv=4)"
   ]
  },
  {
   "cell_type": "code",
   "execution_count": 207,
   "metadata": {},
   "outputs": [
    {
     "name": "stdout",
     "output_type": "stream",
     "text": [
      "score of decision regressor:  [0.80664709 0.7526787  0.83943895 0.00728356]\n",
      "mean score of the model:  0.6015120755483895\n",
      "features importances :  [0.23687379 0.35674624 0.31283918 0.00410807 0.08282779 0.00660492]\n"
     ]
    }
   ],
   "source": [
    "print('score of decision regressor: ',score_3)\n",
    "print('mean score of the model: ', score_3.mean())\n",
    "print('features importances : ',dr.feature_importances_)"
   ]
  },
  {
   "cell_type": "code",
   "execution_count": 208,
   "metadata": {},
   "outputs": [
    {
     "data": {
      "text/html": [
       "<div>\n",
       "<style scoped>\n",
       "    .dataframe tbody tr th:only-of-type {\n",
       "        vertical-align: middle;\n",
       "    }\n",
       "\n",
       "    .dataframe tbody tr th {\n",
       "        vertical-align: top;\n",
       "    }\n",
       "\n",
       "    .dataframe thead th {\n",
       "        text-align: right;\n",
       "    }\n",
       "</style>\n",
       "<table border=\"1\" class=\"dataframe\">\n",
       "  <thead>\n",
       "    <tr style=\"text-align: right;\">\n",
       "      <th></th>\n",
       "      <th>0</th>\n",
       "    </tr>\n",
       "  </thead>\n",
       "  <tbody>\n",
       "    <tr>\n",
       "      <th>Large B/P</th>\n",
       "      <td>0.236874</td>\n",
       "    </tr>\n",
       "    <tr>\n",
       "      <th>Large ROE</th>\n",
       "      <td>0.356746</td>\n",
       "    </tr>\n",
       "    <tr>\n",
       "      <th>Large S/P</th>\n",
       "      <td>0.312839</td>\n",
       "    </tr>\n",
       "    <tr>\n",
       "      <th>Large Return Rate in the last quarter</th>\n",
       "      <td>0.004108</td>\n",
       "    </tr>\n",
       "    <tr>\n",
       "      <th>Large Market Value</th>\n",
       "      <td>0.082828</td>\n",
       "    </tr>\n",
       "    <tr>\n",
       "      <th>Small systematic Risk</th>\n",
       "      <td>0.006605</td>\n",
       "    </tr>\n",
       "  </tbody>\n",
       "</table>\n",
       "</div>"
      ],
      "text/plain": [
       "                                                0\n",
       " Large B/P                               0.236874\n",
       " Large ROE                               0.356746\n",
       " Large S/P                               0.312839\n",
       " Large Return Rate in the last quarter   0.004108\n",
       " Large Market Value                      0.082828\n",
       " Small systematic Risk                   0.006605"
      ]
     },
     "execution_count": 208,
     "metadata": {},
     "output_type": "execute_result"
    }
   ],
   "source": [
    "summary_2=pd.DataFrame(index=Features,data=dr.feature_importances_)\n",
    "summary_2"
   ]
  },
  {
   "cell_type": "code",
   "execution_count": 209,
   "metadata": {},
   "outputs": [],
   "source": [
    "##GRID SEARCH To select best hyperparameters\n",
    "rf2=ske.RandomForestRegressor()\n",
    "parms={'n_estimators':[100,120,150,200],'min_samples_leaf':[2,4,5,10],'min_samples_split':[2,3,5,6]}"
   ]
  },
  {
   "cell_type": "code",
   "execution_count": 210,
   "metadata": {},
   "outputs": [],
   "source": [
    "srfr2=ms.GridSearchCV(rf2, param_grid=parms, scoring='r2',cv=4)"
   ]
  },
  {
   "cell_type": "code",
   "execution_count": 211,
   "metadata": {},
   "outputs": [
    {
     "name": "stderr",
     "output_type": "stream",
     "text": [
      "/Users/soloheryramilijaona/anaconda3/lib/python3.7/site-packages/sklearn/model_selection/_search.py:813: DeprecationWarning: The default of the `iid` parameter will change from True to False in version 0.22 and will be removed in 0.24. This will change numeric results when test-set sizes are unequal.\n",
      "  DeprecationWarning)\n"
     ]
    },
    {
     "data": {
      "text/plain": [
       "GridSearchCV(cv=4, error_score='raise-deprecating',\n",
       "             estimator=RandomForestRegressor(bootstrap=True, criterion='mse',\n",
       "                                             max_depth=None,\n",
       "                                             max_features='auto',\n",
       "                                             max_leaf_nodes=None,\n",
       "                                             min_impurity_decrease=0.0,\n",
       "                                             min_impurity_split=None,\n",
       "                                             min_samples_leaf=1,\n",
       "                                             min_samples_split=2,\n",
       "                                             min_weight_fraction_leaf=0.0,\n",
       "                                             n_estimators='warn', n_jobs=None,\n",
       "                                             oob_score=False, random_state=None,\n",
       "                                             verbose=0, warm_start=False),\n",
       "             iid='warn', n_jobs=None,\n",
       "             param_grid={'min_samples_leaf': [2, 4, 5, 10],\n",
       "                         'min_samples_split': [2, 3, 5, 6],\n",
       "                         'n_estimators': [100, 120, 150, 200]},\n",
       "             pre_dispatch='2*n_jobs', refit=True, return_train_score=False,\n",
       "             scoring='r2', verbose=0)"
      ]
     },
     "execution_count": 211,
     "metadata": {},
     "output_type": "execute_result"
    }
   ],
   "source": [
    "srfr2.fit(X,y)"
   ]
  },
  {
   "cell_type": "code",
   "execution_count": 212,
   "metadata": {},
   "outputs": [
    {
     "data": {
      "text/plain": [
       "dict_keys(['mean_fit_time', 'std_fit_time', 'mean_score_time', 'std_score_time', 'param_min_samples_leaf', 'param_min_samples_split', 'param_n_estimators', 'params', 'split0_test_score', 'split1_test_score', 'split2_test_score', 'split3_test_score', 'mean_test_score', 'std_test_score', 'rank_test_score'])"
      ]
     },
     "execution_count": 212,
     "metadata": {},
     "output_type": "execute_result"
    }
   ],
   "source": [
    "srfr2.cv_results_.keys()"
   ]
  },
  {
   "cell_type": "code",
   "execution_count": 213,
   "metadata": {},
   "outputs": [
    {
     "name": "stdout",
     "output_type": "stream",
     "text": [
      "best sample leaf : 2\n",
      "best number of estimators :  100\n",
      "best sample split number :  2\n"
     ]
    }
   ],
   "source": [
    "print('best sample leaf :' ,srfr2.best_estimator_.min_samples_leaf)\n",
    "print('best number of estimators : ',srfr2.best_estimator_.n_estimators)\n",
    "print('best sample split number : ', srfr2.best_estimator_.min_samples_split)"
   ]
  },
  {
   "cell_type": "code",
   "execution_count": 214,
   "metadata": {},
   "outputs": [],
   "source": [
    "##Best hyperparameters for decision tree regressor\n",
    "dtr= DecisionTreeRegressor()\n",
    "prms={'min_samples_split':[2,4,6,8],'min_samples_leaf':[2,4,6,8]}\n",
    "dts=ms.GridSearchCV(dtr,param_grid=prms,scoring='r2',cv=4)"
   ]
  },
  {
   "cell_type": "code",
   "execution_count": 215,
   "metadata": {},
   "outputs": [
    {
     "name": "stderr",
     "output_type": "stream",
     "text": [
      "/Users/soloheryramilijaona/anaconda3/lib/python3.7/site-packages/sklearn/model_selection/_search.py:813: DeprecationWarning: The default of the `iid` parameter will change from True to False in version 0.22 and will be removed in 0.24. This will change numeric results when test-set sizes are unequal.\n",
      "  DeprecationWarning)\n"
     ]
    },
    {
     "data": {
      "text/plain": [
       "GridSearchCV(cv=4, error_score='raise-deprecating',\n",
       "             estimator=DecisionTreeRegressor(criterion='mse', max_depth=None,\n",
       "                                             max_features=None,\n",
       "                                             max_leaf_nodes=None,\n",
       "                                             min_impurity_decrease=0.0,\n",
       "                                             min_impurity_split=None,\n",
       "                                             min_samples_leaf=1,\n",
       "                                             min_samples_split=2,\n",
       "                                             min_weight_fraction_leaf=0.0,\n",
       "                                             presort=False, random_state=None,\n",
       "                                             splitter='best'),\n",
       "             iid='warn', n_jobs=None,\n",
       "             param_grid={'min_samples_leaf': [2, 4, 6, 8],\n",
       "                         'min_samples_split': [2, 4, 6, 8]},\n",
       "             pre_dispatch='2*n_jobs', refit=True, return_train_score=False,\n",
       "             scoring='r2', verbose=0)"
      ]
     },
     "execution_count": 215,
     "metadata": {},
     "output_type": "execute_result"
    }
   ],
   "source": [
    "dts.fit(X,y)"
   ]
  },
  {
   "cell_type": "code",
   "execution_count": 216,
   "metadata": {},
   "outputs": [
    {
     "name": "stdout",
     "output_type": "stream",
     "text": [
      "best estimator for leaf : 2\n",
      "best estimator for split :  4\n"
     ]
    }
   ],
   "source": [
    "print('best estimator for leaf :', dts.best_estimator_.min_samples_leaf)\n",
    "print('best estimator for split : ', dts.best_estimator_.min_samples_split)"
   ]
  },
  {
   "cell_type": "code",
   "execution_count": 217,
   "metadata": {},
   "outputs": [],
   "source": [
    "dtr2=DecisionTreeRegressor(min_samples_leaf=2,min_samples_split=4)"
   ]
  },
  {
   "cell_type": "code",
   "execution_count": 218,
   "metadata": {},
   "outputs": [],
   "source": [
    "score_4=ms.cross_val_score(dtr2,X,y,cv=4)"
   ]
  }
 ],
 "metadata": {
  "kernelspec": {
   "display_name": "Python 3",
   "language": "python",
   "name": "python3"
  },
  "language_info": {
   "codemirror_mode": {
    "name": "ipython",
    "version": 3
   },
   "file_extension": ".py",
   "mimetype": "text/x-python",
   "name": "python",
   "nbconvert_exporter": "python",
   "pygments_lexer": "ipython3",
   "version": "3.7.3"
  }
 },
 "nbformat": 4,
 "nbformat_minor": 2
}
